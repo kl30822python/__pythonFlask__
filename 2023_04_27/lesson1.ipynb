{
 "cells": [
  {
   "cell_type": "code",
   "execution_count": null,
   "metadata": {},
   "outputs": [],
   "source": [
    "#建立一個次執行序的function\n",
    "import time\n",
    "def countdown (n):\n",
    "    while n > 0:\n",
    "        print(f\"倒數計時:{n}\")\n",
    "        n -= 1\n",
    "        time.sleep(5)\n",
    "    \n",
    "from threading import Thread\n",
    "t_instance = Thread(target=countdown, args=(10,))\n",
    "t_instance.start()"
   ]
  },
  {
   "cell_type": "code",
   "execution_count": null,
   "metadata": {},
   "outputs": [],
   "source": [
    "#次執行序的工作結束\n",
    "import time\n",
    "def countdown (n):\n",
    "    while n > 0:\n",
    "        print(f\"倒數計時:{n}\")\n",
    "        n -= 1\n",
    "        time.sleep(5)\n",
    "    \n",
    "from threading import Thread\n",
    "t_instance = Thread(target=countdown, args=(10,))\n",
    "t_instance.start()\n",
    "\n",
    "while t_instance.is_alive():\n",
    "    print(\"次執行序仍在工作\")\n",
    "    time.sleep(1)\n",
    "else:\n",
    "    print(\"次執行序工作結束\")"
   ]
  },
  {
   "cell_type": "code",
   "execution_count": null,
   "metadata": {},
   "outputs": [],
   "source": [
    "#t_instance.join()\n",
    "#主執行序在這裡先暫停，等待次執行序"
   ]
  }
 ],
 "metadata": {
  "kernelspec": {
   "display_name": "venv",
   "language": "python",
   "name": "python3"
  },
  "language_info": {
   "codemirror_mode": {
    "name": "ipython",
    "version": 3
   },
   "file_extension": ".py",
   "mimetype": "text/x-python",
   "name": "python",
   "nbconvert_exporter": "python",
   "pygments_lexer": "ipython3",
   "version": "3.8.6"
  },
  "orig_nbformat": 4
 },
 "nbformat": 4,
 "nbformat_minor": 2
}
